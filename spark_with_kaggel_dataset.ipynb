{
 "cells": [
  {
   "cell_type": "code",
   "execution_count": 18,
   "id": "65807e67",
   "metadata": {},
   "outputs": [],
   "source": [
    "from pyspark.sql import SparkSession\n",
    "import pyspark.sql.functions as F\n",
    "spark = SparkSession.builder.master(\"local[*]\").getOrCreate()\n"
   ]
  },
  {
   "cell_type": "code",
   "execution_count": 21,
   "id": "a00b7244",
   "metadata": {},
   "outputs": [
    {
     "name": "stdout",
     "output_type": "stream",
     "text": [
      "+---------------+----+---------+--------------------+------+---------+---------+---------------+-----------+---------------+\n",
      "|country_or_area|year|comm_code|           commodity|  flow|trade_usd|weight_kg|  quantity_name|   quantity|       category|\n",
      "+---------------+----+---------+--------------------+------+---------+---------+---------------+-----------+---------------+\n",
      "|    Afghanistan|2016|   010410|         Sheep, live|Export|     6088|     2339|Number of items|       51.0|01_live_animals|\n",
      "|    Afghanistan|2016|   010420|         Goats, live|Export|     3958|      984|Number of items|       53.0|01_live_animals|\n",
      "|    Afghanistan|2008|   010210|Bovine animals, l...|Import|  1026804|      272|Number of items|     3769.0|01_live_animals|\n",
      "|        Albania|2016|   010290|Bovine animals, l...|Import|  2414533|  1114023|Number of items|     6853.0|01_live_animals|\n",
      "|        Albania|2016|   010392|Swine, live excep...|Import| 14265937|  9484953|Number of items|    96040.0|01_live_animals|\n",
      "|        Albania|2016|   010511|Fowls, live domes...|Import|  2671732|   254652|Number of items|  5629138.0|01_live_animals|\n",
      "|        Albania|2016|   010511|Fowls, live domes...|Export|    87581|     5320|Number of items|   115180.0|01_live_animals|\n",
      "|        Albania|2016|   010519|Poultry, live exc...|Import|    26485|     2908|Number of items|    64000.0|01_live_animals|\n",
      "|        Albania|2016|   010591|Fowls, live domes...|Import|  2421513|  1926850|Number of items|  1006990.0|01_live_animals|\n",
      "|        Albania|2016|   010599|Poultry, live exc...|Import|   251318|   211177|Number of items|   205124.0|01_live_animals|\n",
      "|        Albania|2016|   010600|Animals, live, ex...|Export|   584025|    59521|Number of items|    59521.0|01_live_animals|\n",
      "|        Albania|2015|   010290|Bovine animals, l...|Import|  7264642|  3519352|Number of items|    18641.0|01_live_animals|\n",
      "|        Albania|2015|   010391|Swine, live excep...|Import|    45843|    29930|Number of items|      795.0|01_live_animals|\n",
      "|        Albania|2015|   010392|Swine, live excep...|Import| 14031292|  9439974|Number of items|    93222.0|01_live_animals|\n",
      "|        Albania|2015|   010511|Fowls, live domes...|Import|  2357680|   264599|Number of items|  4995885.0|01_live_animals|\n",
      "|        Albania|2015|   010519|Poultry, live exc...|Import|    32327|     3843|Number of items|    80880.0|01_live_animals|\n",
      "|        Albania|2015|   010591|Fowls, live domes...|Import|  2453360|  2133310|Number of items|  1169944.0|01_live_animals|\n",
      "|        Albania|2015|   010599|Poultry, live exc...|Import|   300813|   258566|Number of items|4.8170912E7|01_live_animals|\n",
      "|        Albania|2015|   010600|Animals, live, ex...|Export|   636184|    80774|Number of items|    80694.0|01_live_animals|\n",
      "|        Albania|2014|   010290|Bovine animals, l...|Import|  8158583|  4080294|Number of items|    18688.0|01_live_animals|\n",
      "+---------------+----+---------+--------------------+------+---------+---------+---------------+-----------+---------------+\n",
      "only showing top 20 rows\n",
      "\n"
     ]
    }
   ],
   "source": [
    "#load database\n",
    "df = spark.read.csv(\"dataset/commodity_trade_statistics_data.csv\", header = True, inferSchema = True)\n",
    "df.show"
   ]
  },
  {
   "cell_type": "code",
   "execution_count": 22,
   "id": "bb01cb9a",
   "metadata": {},
   "outputs": [
    {
     "name": "stdout",
     "output_type": "stream",
     "text": [
      "root\n",
      " |-- country_or_area: string (nullable = true)\n",
      " |-- year: integer (nullable = true)\n",
      " |-- comm_code: string (nullable = true)\n",
      " |-- commodity: string (nullable = true)\n",
      " |-- flow: string (nullable = true)\n",
      " |-- trade_usd: long (nullable = true)\n",
      " |-- weight_kg: long (nullable = true)\n",
      " |-- quantity_name: string (nullable = true)\n",
      " |-- quantity: double (nullable = true)\n",
      " |-- category: string (nullable = true)\n",
      "\n"
     ]
    }
   ],
   "source": [
    "df.printSchema()"
   ]
  },
  {
   "cell_type": "code",
   "execution_count": 25,
   "id": "bf59fff8",
   "metadata": {},
   "outputs": [
    {
     "name": "stdout",
     "output_type": "stream",
     "text": [
      "+---------------+--------------------+\n",
      "|country_or_area|           commodity|\n",
      "+---------------+--------------------+\n",
      "|    Afghanistan|         Sheep, live|\n",
      "|    Afghanistan|         Goats, live|\n",
      "|    Afghanistan|Bovine animals, l...|\n",
      "|        Albania|Bovine animals, l...|\n",
      "|        Albania|Swine, live excep...|\n",
      "|        Albania|Fowls, live domes...|\n",
      "|        Albania|Fowls, live domes...|\n",
      "|        Albania|Poultry, live exc...|\n",
      "|        Albania|Fowls, live domes...|\n",
      "|        Albania|Poultry, live exc...|\n",
      "|        Albania|Animals, live, ex...|\n",
      "|        Albania|Bovine animals, l...|\n",
      "|        Albania|Swine, live excep...|\n",
      "|        Albania|Swine, live excep...|\n",
      "|        Albania|Fowls, live domes...|\n",
      "|        Albania|Poultry, live exc...|\n",
      "|        Albania|Fowls, live domes...|\n",
      "|        Albania|Poultry, live exc...|\n",
      "|        Albania|Animals, live, ex...|\n",
      "|        Albania|Bovine animals, l...|\n",
      "+---------------+--------------------+\n",
      "only showing top 20 rows\n",
      "\n"
     ]
    }
   ],
   "source": [
    "#select\n",
    "df.select(\"country_or_area\", \"commodity\").show()"
   ]
  },
  {
   "cell_type": "code",
   "execution_count": 31,
   "id": "32b9037f",
   "metadata": {},
   "outputs": [
    {
     "name": "stdout",
     "output_type": "stream",
     "text": [
      "+---------------+----+---------+--------------------+------+---------+---------+---------------+---------+---------------+\n",
      "|country_or_area|year|comm_code|           commodity|  flow|trade_usd|weight_kg|  quantity_name| quantity|       category|\n",
      "+---------------+----+---------+--------------------+------+---------+---------+---------------+---------+---------------+\n",
      "|    Afghanistan|2008|   010210|Bovine animals, l...|Import|  1026804|      272|Number of items|   3769.0|01_live_animals|\n",
      "|        Albania|2016|   010290|Bovine animals, l...|Import|  2414533|  1114023|Number of items|   6853.0|01_live_animals|\n",
      "|        Albania|2016|   010392|Swine, live excep...|Import| 14265937|  9484953|Number of items|  96040.0|01_live_animals|\n",
      "|        Albania|2016|   010511|Fowls, live domes...|Import|  2671732|   254652|Number of items|5629138.0|01_live_animals|\n",
      "|        Albania|2016|   010591|Fowls, live domes...|Import|  2421513|  1926850|Number of items|1006990.0|01_live_animals|\n",
      "|        Albania|2015|   010290|Bovine animals, l...|Import|  7264642|  3519352|Number of items|  18641.0|01_live_animals|\n",
      "|        Albania|2015|   010392|Swine, live excep...|Import| 14031292|  9439974|Number of items|  93222.0|01_live_animals|\n",
      "|        Albania|2015|   010511|Fowls, live domes...|Import|  2357680|   264599|Number of items|4995885.0|01_live_animals|\n",
      "|        Albania|2015|   010591|Fowls, live domes...|Import|  2453360|  2133310|Number of items|1169944.0|01_live_animals|\n",
      "|        Albania|2014|   010290|Bovine animals, l...|Import|  8158583|  4080294|Number of items|  18688.0|01_live_animals|\n",
      "|        Albania|2014|   010392|Swine, live excep...|Import| 13483939|  8113086|Number of items|  83900.0|01_live_animals|\n",
      "|        Albania|2014|   010511|Fowls, live domes...|Import|  2618381|   209999|Number of items|4641445.0|01_live_animals|\n",
      "|        Albania|2014|   010591|Fowls, live domes...|Import|  3722428|  2715750|Number of items|1531017.0|01_live_animals|\n",
      "|        Albania|2013|   010290|Bovine animals, l...|Import|  9129721|  4497831|Number of items|  27104.0|01_live_animals|\n",
      "|        Albania|2013|   010392|Swine, live excep...|Import| 12264218|  7315786|Number of items|  81859.0|01_live_animals|\n",
      "|        Albania|2013|   010511|Fowls, live domes...|Import|  2780932|   229628|Number of items|5033354.0|01_live_animals|\n",
      "|        Albania|2013|   010591|Fowls, live domes...|Import|  3042812|  2379634|Number of items|1409156.0|01_live_animals|\n",
      "|        Albania|2012|   010290|Bovine animals, l...|Import| 10979014|  5556474|Number of items|  29030.0|01_live_animals|\n",
      "|        Albania|2012|   010392|Swine, live excep...|Import| 11492587|  7066783|Number of items|  78853.0|01_live_animals|\n",
      "|        Albania|2012|   010511|Fowls, live domes...|Import|  2776389|   280065|Number of items|5679462.0|01_live_animals|\n",
      "+---------------+----+---------+--------------------+------+---------+---------+---------------+---------+---------------+\n",
      "only showing top 20 rows\n",
      "\n"
     ]
    }
   ],
   "source": [
    "#where\n",
    "df.where(df.trade_usd > 1000000).show()"
   ]
  },
  {
   "cell_type": "code",
   "execution_count": 30,
   "id": "f7a2c8b5",
   "metadata": {},
   "outputs": [
    {
     "name": "stdout",
     "output_type": "stream",
     "text": [
      "+---------------+----+---------+--------------------+------+---------+---------+---------------+--------+---------------+\n",
      "|country_or_area|year|comm_code|           commodity|  flow|trade_usd|weight_kg|  quantity_name|quantity|       category|\n",
      "+---------------+----+---------+--------------------+------+---------+---------+---------------+--------+---------------+\n",
      "|      Indonesia|2016|   010119|Horses, live exce...|Import|   580194|    30941|Number of items|    38.0|01_live_animals|\n",
      "|      Indonesia|2016|   010120|Asses, mules and ...|Import|     1525|     1162|    No Quantity|    null|01_live_animals|\n",
      "|      Indonesia|2016|   010210|Bovine animals, l...|Import|  2313879|   488410|Number of items|  1121.0|01_live_animals|\n",
      "|      Indonesia|2016|   010290|Bovine animals, l...|Import|599149354|195275703|Number of items|654129.0|01_live_animals|\n",
      "|      Indonesia|2016|   010310|Swine, live pure-...|Export|     5500|     1760|Number of items|    11.0|01_live_animals|\n",
      "|      Indonesia|2016|   010391|Swine, live excep...|Import|      661|       28|Number of items|    12.0|01_live_animals|\n",
      "|      Indonesia|2016|   010392|Swine, live excep...|Import|     3188|      463|Number of items|    21.0|01_live_animals|\n",
      "|      Indonesia|2016|   010392|Swine, live excep...|Export| 53027784| 27573637|Number of items|335476.0|01_live_animals|\n",
      "|      Indonesia|2016|   010511|Fowls, live domes...|Import| 11910511|    39241|    No Quantity|    null|01_live_animals|\n",
      "|      Indonesia|2016|   010511|Fowls, live domes...|Export|      455|      113|Number of items|   190.0|01_live_animals|\n",
      "|      Indonesia|2016|   010591|Fowls, live domes...|Import|     7307|     1957|Number of items|  3240.0|01_live_animals|\n",
      "|      Indonesia|2016|   010591|Fowls, live domes...|Export|      265|      230|Number of items|   108.0|01_live_animals|\n",
      "|      Indonesia|2016|   010599|Poultry, live exc...|Import|      764|       35|Number of items|    76.0|01_live_animals|\n",
      "|      Indonesia|2016|   010600|Animals, live, ex...|Import|  2160351|   101313|    No Quantity|    null|01_live_animals|\n",
      "|      Indonesia|2016|   010600|Animals, live, ex...|Export|  4278792|   537355|    No Quantity|    null|01_live_animals|\n",
      "|      Indonesia|2015|   010119|Horses, live exce...|Import|   134217|     6548|    No Quantity|    null|01_live_animals|\n",
      "|      Indonesia|2015|   010210|Bovine animals, l...|Import|  4977432|  1433480|Number of items|  2160.0|01_live_animals|\n",
      "|      Indonesia|2015|   010290|Bovine animals, l...|Import|540598740|196170607|Number of items|537496.0|01_live_animals|\n",
      "|      Indonesia|2015|   010310|Swine, live pure-...|Import|    64366|      350|    No Quantity|    null|01_live_animals|\n",
      "|      Indonesia|2015|   010392|Swine, live excep...|Export| 55424868| 28145599|Number of items|277046.0|01_live_animals|\n",
      "+---------------+----+---------+--------------------+------+---------+---------+---------------+--------+---------------+\n",
      "only showing top 20 rows\n",
      "\n"
     ]
    }
   ],
   "source": [
    "df.where(df.country_or_area == \"Indonesia\").show()"
   ]
  },
  {
   "cell_type": "code",
   "execution_count": 28,
   "id": "e64840bc",
   "metadata": {},
   "outputs": [
    {
     "name": "stdout",
     "output_type": "stream",
     "text": [
      "+---------+--------------------+\n",
      "|     flow|      avg(trade_usd)|\n",
      "+---------+--------------------+\n",
      "|   Import| 8.006771839206687E7|\n",
      "|   Export| 1.321502995639191E8|\n",
      "|Re-Export| 3.918781493411192E7|\n",
      "|Re-Import|1.2326870310037987E7|\n",
      "|     null|                null|\n",
      "+---------+--------------------+\n",
      "\n"
     ]
    }
   ],
   "source": [
    "#group by\n",
    "df.groupBy(\"flow\").agg({\n",
    "    'trade_usd':'avg'\n",
    "}).show()"
   ]
  },
  {
   "cell_type": "code",
   "execution_count": 37,
   "id": "2e22166e",
   "metadata": {},
   "outputs": [
    {
     "name": "stdout",
     "output_type": "stream",
     "text": [
      "+------------------+\n",
      "|   country_or_area|\n",
      "+------------------+\n",
      "|     Côte d'Ivoire|\n",
      "|              Chad|\n",
      "|   Rep. of Moldova|\n",
      "|          Anguilla|\n",
      "|          Paraguay|\n",
      "|             Yemen|\n",
      "|State of Palestine|\n",
      "|           Senegal|\n",
      "|        Cabo Verde|\n",
      "|            Sweden|\n",
      "|          Kiribati|\n",
      "|         Fmr Sudan|\n",
      "|         Cook Isds|\n",
      "|            Guyana|\n",
      "|           Eritrea|\n",
      "|       Philippines|\n",
      "|          Djibouti|\n",
      "|             Tonga|\n",
      "|          Malaysia|\n",
      "|         Singapore|\n",
      "+------------------+\n",
      "only showing top 20 rows\n",
      "\n"
     ]
    }
   ],
   "source": [
    "#select\n",
    "df.select(\"country_or_area\").distinct().show()"
   ]
  }
 ],
 "metadata": {
  "kernelspec": {
   "display_name": "Python 3",
   "language": "python",
   "name": "python3"
  },
  "language_info": {
   "codemirror_mode": {
    "name": "ipython",
    "version": 3
   },
   "file_extension": ".py",
   "mimetype": "text/x-python",
   "name": "python",
   "nbconvert_exporter": "python",
   "pygments_lexer": "ipython3",
   "version": "3.8.8"
  }
 },
 "nbformat": 4,
 "nbformat_minor": 5
}
